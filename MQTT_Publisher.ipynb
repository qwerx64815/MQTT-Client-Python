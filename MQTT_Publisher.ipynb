{
 "cells": [
  {
   "cell_type": "code",
   "execution_count": 1,
   "metadata": {},
   "outputs": [],
   "source": [
    "import time\n",
    "import paho.mqtt.publish as publish"
   ]
  },
  {
   "cell_type": "code",
   "execution_count": 2,
   "metadata": {},
   "outputs": [],
   "source": [
    "def led():\n",
    "    host = '192.168.1.26'\n",
    "    topic = 'led'\n",
    "    payload = '{\\\"d0\\\":\\\"1\\\",\\\"d1\\\":\\\"1\\\",\\\"d2\\\":\\\"1\\\",\\\"d3\\\":\\\"1\\\"}'\n",
    "    #payload = '{\\\"d0\\\":\\\"0\\\",\\\"d1\\\":\\\"0\\\",\\\"d2\\\":\\\"0\\\",\\\"d3\\\":\\\"0\\\"}'\n",
    "    #payload = '{\\\"d3\\\":\\\"0\\\"}'\n",
    "    return host, topic, payload"
   ]
  },
  {
   "cell_type": "code",
   "execution_count": 3,
   "metadata": {},
   "outputs": [],
   "source": [
    "def sensor():\n",
    "    host = '192.168.1.29'\n",
    "    topic = 'topic1'\n",
    "    payload = '{\\\"Temp\\\":\\\"30\\\",\\\"DO\\\":\\\"10\\\",\\\"ORP\\\":\\\"500\\\",\\\"PH\\\":\\\"5\\\",\\\"TDS\\\":\\\"169\\\"}'\n",
    "    return host, topic, payload"
   ]
  },
  {
   "cell_type": "code",
   "execution_count": null,
   "metadata": {},
   "outputs": [],
   "source": [
    "if __name__ == '__main__':\n",
    "    port = 1883\n",
    "    host, topic, payload = led()\n",
    "    #host, topic, payload = sensor()\n",
    "    auth = {'username': 'admin', 'password': 'password'}\n",
    "    client_id = time.strftime('%Y%m%d%H%M%S',time.localtime(time.time()))\n",
    "    publish.single(topic, payload, 1, hostname=host, port=port, client_id=client_id, auth=auth)"
   ]
  }
 ],
 "metadata": {
  "kernelspec": {
   "display_name": "Python 3",
   "language": "python",
   "name": "python3"
  },
  "language_info": {
   "codemirror_mode": {
    "name": "ipython",
    "version": 3
   },
   "file_extension": ".py",
   "mimetype": "text/x-python",
   "name": "python",
   "nbconvert_exporter": "python",
   "pygments_lexer": "ipython3",
   "version": "3.6.8"
  }
 },
 "nbformat": 4,
 "nbformat_minor": 2
}
